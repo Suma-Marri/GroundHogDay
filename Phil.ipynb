{
 "cells": [
  {
   "cell_type": "code",
   "execution_count": 1,
   "metadata": {
    "colab": {
     "base_uri": "https://localhost:8080/",
     "height": 34
    },
    "colab_type": "code",
    "executionInfo": {
     "elapsed": 614,
     "status": "ok",
     "timestamp": 1575772765405,
     "user": {
      "displayName": "Enrique Sanchez",
      "photoUrl": "https://lh3.googleusercontent.com/a-/AAuE7mArCUYEVDUpb_fP7zxOTRG4kb61eEQIaf7QPUaLNA=s64",
      "userId": "01333664773716255039"
     },
     "user_tz": 480
    },
    "id": "7VW5lfymMtEv",
    "outputId": "137c346f-2c77-4888-b6b6-dbe42b2a7518"
   },
   "outputs": [],
   "source": [
    "import pandas as pd\n",
    "import numpy as np\n",
    "import matplotlib.pyplot as plt\n",
    "%matplotlib inline"
   ]
  },
  {
   "cell_type": "code",
   "execution_count": 2,
   "metadata": {
    "colab": {},
    "colab_type": "code",
    "id": "ft2Rda6dwHMf"
   },
   "outputs": [],
   "source": [
    "phil = pd.read_csv('archive.csv')\n",
    "phil = phil[phil['Year'] != '1901-2000']\n",
    "phil['Year'] = phil['Year'].astype(int)"
   ]
  },
  {
   "cell_type": "code",
   "execution_count": 3,
   "metadata": {
    "colab": {
     "base_uri": "https://localhost:8080/",
     "height": 131
    },
    "colab_type": "code",
    "executionInfo": {
     "elapsed": 646,
     "status": "ok",
     "timestamp": 1575772768173,
     "user": {
      "displayName": "Enrique Sanchez",
      "photoUrl": "https://lh3.googleusercontent.com/a-/AAuE7mArCUYEVDUpb_fP7zxOTRG4kb61eEQIaf7QPUaLNA=s64",
      "userId": "01333664773716255039"
     },
     "user_tz": 480
    },
    "id": "sOUY7yqMpNlo",
    "outputId": "90654c31-b987-4fe2-aa8e-62b677b1af09"
   },
   "outputs": [
    {
     "data": {
      "text/html": [
       "<div>\n",
       "<style scoped>\n",
       "    .dataframe tbody tr th:only-of-type {\n",
       "        vertical-align: middle;\n",
       "    }\n",
       "\n",
       "    .dataframe tbody tr th {\n",
       "        vertical-align: top;\n",
       "    }\n",
       "\n",
       "    .dataframe thead th {\n",
       "        text-align: right;\n",
       "    }\n",
       "</style>\n",
       "<table border=\"1\" class=\"dataframe\">\n",
       "  <thead>\n",
       "    <tr style=\"text-align: right;\">\n",
       "      <th></th>\n",
       "      <th>Year</th>\n",
       "      <th>Punxsutawney Phil</th>\n",
       "      <th>February Average Temperature</th>\n",
       "      <th>February Average Temperature (Northeast)</th>\n",
       "      <th>February Average Temperature (Midwest)</th>\n",
       "      <th>February Average Temperature (Pennsylvania)</th>\n",
       "      <th>March Average Temperature</th>\n",
       "      <th>March Average Temperature (Northeast)</th>\n",
       "      <th>March Average Temperature (Midwest)</th>\n",
       "      <th>March Average Temperature (Pennsylvania)</th>\n",
       "    </tr>\n",
       "  </thead>\n",
       "  <tbody>\n",
       "    <tr>\n",
       "      <th>56</th>\n",
       "      <td>1942</td>\n",
       "      <td>Partial Shadow</td>\n",
       "      <td>30.74</td>\n",
       "      <td>20.1</td>\n",
       "      <td>29.7</td>\n",
       "      <td>23.2</td>\n",
       "      <td>41.31</td>\n",
       "      <td>35.7</td>\n",
       "      <td>44.1</td>\n",
       "      <td>37.8</td>\n",
       "    </tr>\n",
       "  </tbody>\n",
       "</table>\n",
       "</div>"
      ],
      "text/plain": [
       "    Year Punxsutawney Phil  February Average Temperature  \\\n",
       "56  1942    Partial Shadow                         30.74   \n",
       "\n",
       "    February Average Temperature (Northeast)  \\\n",
       "56                                      20.1   \n",
       "\n",
       "    February Average Temperature (Midwest)  \\\n",
       "56                                    29.7   \n",
       "\n",
       "    February Average Temperature (Pennsylvania)  March Average Temperature  \\\n",
       "56                                         23.2                      41.31   \n",
       "\n",
       "    March Average Temperature (Northeast)  \\\n",
       "56                                   35.7   \n",
       "\n",
       "    March Average Temperature (Midwest)  \\\n",
       "56                                 44.1   \n",
       "\n",
       "    March Average Temperature (Pennsylvania)  \n",
       "56                                      37.8  "
      ]
     },
     "execution_count": 3,
     "metadata": {},
     "output_type": "execute_result"
    }
   ],
   "source": [
    "phil[phil['Year'] == 1942]"
   ]
  },
  {
   "cell_type": "code",
   "execution_count": 4,
   "metadata": {
    "colab": {
     "base_uri": "https://localhost:8080/",
     "height": 272
    },
    "colab_type": "code",
    "executionInfo": {
     "elapsed": 549,
     "status": "ok",
     "timestamp": 1575772772894,
     "user": {
      "displayName": "Enrique Sanchez",
      "photoUrl": "https://lh3.googleusercontent.com/a-/AAuE7mArCUYEVDUpb_fP7zxOTRG4kb61eEQIaf7QPUaLNA=s64",
      "userId": "01333664773716255039"
     },
     "user_tz": 480
    },
    "id": "m5zZbK2Nwtig",
    "outputId": "b082c05d-8563-4f4e-c6d8-e39385763e2c"
   },
   "outputs": [
    {
     "name": "stdout",
     "output_type": "stream",
     "text": [
      "<class 'pandas.core.frame.DataFrame'>\n",
      "Int64Index: 131 entries, 0 to 130\n",
      "Data columns (total 10 columns):\n",
      " #   Column                                       Non-Null Count  Dtype  \n",
      "---  ------                                       --------------  -----  \n",
      " 0   Year                                         131 non-null    int32  \n",
      " 1   Punxsutawney Phil                            131 non-null    object \n",
      " 2   February Average Temperature                 122 non-null    float64\n",
      " 3   February Average Temperature (Northeast)     122 non-null    float64\n",
      " 4   February Average Temperature (Midwest)       122 non-null    float64\n",
      " 5   February Average Temperature (Pennsylvania)  122 non-null    float64\n",
      " 6   March Average Temperature                    122 non-null    float64\n",
      " 7   March Average Temperature (Northeast)        122 non-null    float64\n",
      " 8   March Average Temperature (Midwest)          122 non-null    float64\n",
      " 9   March Average Temperature (Pennsylvania)     122 non-null    float64\n",
      "dtypes: float64(8), int32(1), object(1)\n",
      "memory usage: 10.7+ KB\n"
     ]
    }
   ],
   "source": [
    "phil.info()"
   ]
  },
  {
   "cell_type": "code",
   "execution_count": 5,
   "metadata": {
    "colab": {
     "base_uri": "https://localhost:8080/",
     "height": 346
    },
    "colab_type": "code",
    "executionInfo": {
     "elapsed": 592,
     "status": "ok",
     "timestamp": 1575772777075,
     "user": {
      "displayName": "Enrique Sanchez",
      "photoUrl": "https://lh3.googleusercontent.com/a-/AAuE7mArCUYEVDUpb_fP7zxOTRG4kb61eEQIaf7QPUaLNA=s64",
      "userId": "01333664773716255039"
     },
     "user_tz": 480
    },
    "id": "DA1JBxZxxRJX",
    "outputId": "014d4309-0f46-41cc-95a2-fd89288e815c"
   },
   "outputs": [
    {
     "data": {
      "image/png": "[encoded data removed]",
      "text/plain": [
       "<Figure size 432x288 with 1 Axes>"
      ]
     },
     "metadata": {
      "needs_background": "light"
     },
     "output_type": "display_data"
    }
   ],
   "source": [
    "# Full shadow: Next 6 weeks colder than usual (extended Winter)\n",
    "# No shadow: Warmer weather and earlier Spring\n",
    "# Partial shadow: \n",
    "phil['Punxsutawney Phil'].value_counts().plot(kind='bar')\n",
    "plt.title('What does Phil see? (1886-2016)')\n",
    "plt.ylabel('Count');"
   ]
  },
  {
   "cell_type": "code",
   "execution_count": 6,
   "metadata": {
    "colab": {
     "base_uri": "https://localhost:8080/",
     "height": 102
    },
    "colab_type": "code",
    "executionInfo": {
     "elapsed": 1184,
     "status": "ok",
     "timestamp": 1575769023749,
     "user": {
      "displayName": "Enrique Sanchez",
      "photoUrl": "https://lh3.googleusercontent.com/a-/AAuE7mArCUYEVDUpb_fP7zxOTRG4kb61eEQIaf7QPUaLNA=s64",
      "userId": "01333664773716255039"
     },
     "user_tz": 480
    },
    "id": "ck8G-BvoWnX5",
    "outputId": "4a2e5c8e-3c7c-4692-dd4c-cc32a22e18ff"
   },
   "outputs": [
    {
     "data": {
      "text/plain": [
       "Full Shadow       102\n",
       "No Shadow          16\n",
       "No Record          12\n",
       "Partial Shadow      1\n",
       "Name: Punxsutawney Phil, dtype: int64"
      ]
     },
     "execution_count": 6,
     "metadata": {},
     "output_type": "execute_result"
    }
   ],
   "source": [
    "phil['Punxsutawney Phil'].value_counts()"
   ]
  },
  {
   "cell_type": "code",
   "execution_count": 7,
   "metadata": {
    "colab": {
     "base_uri": "https://localhost:8080/",
     "height": 255
    },
    "colab_type": "code",
    "executionInfo": {
     "elapsed": 1028,
     "status": "ok",
     "timestamp": 1575769023750,
     "user": {
      "displayName": "Enrique Sanchez",
      "photoUrl": "https://lh3.googleusercontent.com/a-/AAuE7mArCUYEVDUpb_fP7zxOTRG4kb61eEQIaf7QPUaLNA=s64",
      "userId": "01333664773716255039"
     },
     "user_tz": 480
    },
    "id": "TpW38VX2PGz8",
    "outputId": "e2b97536-37cc-47ba-db77-174e0d4745e9"
   },
   "outputs": [
    {
     "data": {
      "text/plain": [
       "array([26.6 , 35.04, 33.39, 35.37, 25.5 , 30.76, 29.86, 31.46, 28.42,\n",
       "       31.59, 26.94, 33.69, 35.46, 33.01, 35.02, 29.3 , 33.66, 31.08,\n",
       "       29.5 , 29.52, 35.94, 33.03, 30.09, 33.82, 32.25, 33.69, 36.9 ,\n",
       "       31.95, 29.57, 35.19, 38.3 , 37.67, 37.9 , 34.34, 26.92, 40.1 ,\n",
       "       37.94, 36.7 , 29.59, 34.32, 36.01, 25.23, 31.73, 36.  , 29.98,\n",
       "       33.85, 33.53, 30.74, 36.28, 34.5 , 35.28, 34.88, 31.41, 31.62,\n",
       "       31.91, 35.55, 34.54, 35.46, 35.87, 41.41, 31.05, 32.27, 38.07,\n",
       "       31.98, 32.49, 30.52, 37.42, 34.92, 34.12, 31.77, 32.52, 31.24,\n",
       "       32.88, 32.92, 32.81, 35.35, 33.48, 33.55, 33.58, 34.74, 32.76,\n",
       "       39.56, 36.03, 27.99, 28.13, 32.85, 36.59, 32.59, 36.86, 37.38,\n",
       "       30.87, 35.85, 37.38, 33.69, 29.17, 36.7 , 39.81, 39.7 , 31.14,\n",
       "       31.87, 37.36, 35.69, 36.05, 38.71, 39.49, 39.78, 33.98, 36.39,\n",
       "       32.79, 33.57, 37.94, 34.83, 32.41, 34.7 , 36.77, 31.8 , 33.04,\n",
       "       37.51, 34.77, 32.13, 32.99, 39.47])"
      ]
     },
     "execution_count": 7,
     "metadata": {},
     "output_type": "execute_result"
    }
   ],
   "source": [
    "february = phil['February Average Temperature']\n",
    "february = february[~pd.isnull(february)]\n",
    "february.values"
   ]
  },
  {
   "cell_type": "code",
   "execution_count": 8,
   "metadata": {
    "colab": {
     "base_uri": "https://localhost:8080/",
     "height": 255
    },
    "colab_type": "code",
    "executionInfo": {
     "elapsed": 878,
     "status": "ok",
     "timestamp": 1575769024099,
     "user": {
      "displayName": "Enrique Sanchez",
      "photoUrl": "https://lh3.googleusercontent.com/a-/AAuE7mArCUYEVDUpb_fP7zxOTRG4kb61eEQIaf7QPUaLNA=s64",
      "userId": "01333664773716255039"
     },
     "user_tz": 480
    },
    "id": "qVgCcr2mP788",
    "outputId": "00aeb577-32a9-4da9-b9f1-b316c49aa918"
   },
   "outputs": [
    {
     "data": {
      "text/plain": [
       "array([39.97, 38.03, 38.79, 41.05, 37.63, 41.27, 40.71, 41.58, 42.21,\n",
       "       41.76, 45.12, 36.1 , 45.7 , 43.92, 40.35, 49.44, 44.02, 35.76,\n",
       "       38.71, 40.75, 36.95, 42.15, 38.35, 45.75, 40.89, 40.28, 46.63,\n",
       "       40.42, 38.3 , 37.18, 44.24, 39.65, 42.26, 43.12, 43.56, 40.41,\n",
       "       39.42, 37.36, 41.83, 42.78, 43.61, 43.43, 38.84, 45.01, 42.51,\n",
       "       41.52, 39.2 , 41.31, 38.5 , 38.5 , 45.54, 46.78, 38.75, 38.71,\n",
       "       40.77, 38.84, 38.55, 37.69, 43.75, 39.25, 40.06, 40.75, 41.27,\n",
       "       37.67, 41.45, 35.91, 43.47, 37.9 , 43.72, 38.82, 35.44, 43.  ,\n",
       "       43.63, 43.56, 36.03, 38.5 , 39.65, 44.04, 44.29, 44.38, 38.7 ,\n",
       "       42.31, 43.18, 41.31, 42.06, 39.36, 42.85, 42.03, 42.4 , 40.08,\n",
       "       43.48, 46.18, 42.57, 42.4 , 42.67, 44.74, 43.32, 44.71, 41.79,\n",
       "       44.51, 43.34, 39.02, 44.67, 41.34, 42.8 , 46.04, 41.49, 39.54,\n",
       "       43.3 , 47.41, 42.31, 42.62, 47.66, 41.86, 42.87, 43.57, 43.07,\n",
       "       50.41, 40.91, 40.51, 45.39, 47.5 ])"
      ]
     },
     "execution_count": 8,
     "metadata": {},
     "output_type": "execute_result"
    }
   ],
   "source": [
    "march = phil['March Average Temperature']\n",
    "march = march[~pd.isnull(march)]\n",
    "march.values"
   ]
  },
  {
   "cell_type": "code",
   "execution_count": 9,
   "metadata": {
    "colab": {
     "base_uri": "https://localhost:8080/",
     "height": 470
    },
    "colab_type": "code",
    "executionInfo": {
     "elapsed": 901,
     "status": "ok",
     "timestamp": 1575769024252,
     "user": {
      "displayName": "Enrique Sanchez",
      "photoUrl": "https://lh3.googleusercontent.com/a-/AAuE7mArCUYEVDUpb_fP7zxOTRG4kb61eEQIaf7QPUaLNA=s64",
      "userId": "01333664773716255039"
     },
     "user_tz": 480
    },
    "id": "mwX_T5gPyemr",
    "outputId": "7e8000b8-8c01-46fe-9243-0e23aaad2fce"
   },
   "outputs": [
    {
     "data": {
      "text/html": [
       "<div>\n",
       "<style scoped>\n",
       "    .dataframe tbody tr th:only-of-type {\n",
       "        vertical-align: middle;\n",
       "    }\n",
       "\n",
       "    .dataframe tbody tr th {\n",
       "        vertical-align: top;\n",
       "    }\n",
       "\n",
       "    .dataframe thead th {\n",
       "        text-align: right;\n",
       "    }\n",
       "</style>\n",
       "<table border=\"1\" class=\"dataframe\">\n",
       "  <thead>\n",
       "    <tr style=\"text-align: right;\">\n",
       "      <th></th>\n",
       "      <th>Year</th>\n",
       "      <th>Punxsutawney Phil</th>\n",
       "      <th>February Average Temperature</th>\n",
       "      <th>February Average Temperature (Northeast)</th>\n",
       "      <th>February Average Temperature (Midwest)</th>\n",
       "      <th>February Average Temperature (Pennsylvania)</th>\n",
       "      <th>March Average Temperature</th>\n",
       "      <th>March Average Temperature (Northeast)</th>\n",
       "      <th>March Average Temperature (Midwest)</th>\n",
       "      <th>March Average Temperature (Pennsylvania)</th>\n",
       "    </tr>\n",
       "  </thead>\n",
       "  <tbody>\n",
       "    <tr>\n",
       "      <th>12</th>\n",
       "      <td>1898</td>\n",
       "      <td>Full Shadow</td>\n",
       "      <td>35.37</td>\n",
       "      <td>24.8</td>\n",
       "      <td>33.3</td>\n",
       "      <td>26.7</td>\n",
       "      <td>41.05</td>\n",
       "      <td>38.0</td>\n",
       "      <td>46.0</td>\n",
       "      <td>42.0</td>\n",
       "    </tr>\n",
       "    <tr>\n",
       "      <th>14</th>\n",
       "      <td>1900</td>\n",
       "      <td>Full Shadow</td>\n",
       "      <td>30.76</td>\n",
       "      <td>21.4</td>\n",
       "      <td>27.5</td>\n",
       "      <td>24.1</td>\n",
       "      <td>41.27</td>\n",
       "      <td>26.0</td>\n",
       "      <td>37.9</td>\n",
       "      <td>29.3</td>\n",
       "    </tr>\n",
       "    <tr>\n",
       "      <th>15</th>\n",
       "      <td>1901</td>\n",
       "      <td>Full Shadow</td>\n",
       "      <td>29.86</td>\n",
       "      <td>16.0</td>\n",
       "      <td>26.2</td>\n",
       "      <td>18.9</td>\n",
       "      <td>40.71</td>\n",
       "      <td>30.8</td>\n",
       "      <td>41.9</td>\n",
       "      <td>35.1</td>\n",
       "    </tr>\n",
       "    <tr>\n",
       "      <th>17</th>\n",
       "      <td>1903</td>\n",
       "      <td>Full Shadow</td>\n",
       "      <td>28.42</td>\n",
       "      <td>24.5</td>\n",
       "      <td>31.3</td>\n",
       "      <td>28.0</td>\n",
       "      <td>42.21</td>\n",
       "      <td>40.4</td>\n",
       "      <td>47.7</td>\n",
       "      <td>44.5</td>\n",
       "    </tr>\n",
       "    <tr>\n",
       "      <th>18</th>\n",
       "      <td>1904</td>\n",
       "      <td>Full Shadow</td>\n",
       "      <td>31.59</td>\n",
       "      <td>15.0</td>\n",
       "      <td>28.2</td>\n",
       "      <td>19.2</td>\n",
       "      <td>41.76</td>\n",
       "      <td>29.8</td>\n",
       "      <td>42.8</td>\n",
       "      <td>34.0</td>\n",
       "    </tr>\n",
       "    <tr>\n",
       "      <th>...</th>\n",
       "      <td>...</td>\n",
       "      <td>...</td>\n",
       "      <td>...</td>\n",
       "      <td>...</td>\n",
       "      <td>...</td>\n",
       "      <td>...</td>\n",
       "      <td>...</td>\n",
       "      <td>...</td>\n",
       "      <td>...</td>\n",
       "      <td>...</td>\n",
       "    </tr>\n",
       "    <tr>\n",
       "      <th>126</th>\n",
       "      <td>2012</td>\n",
       "      <td>Full Shadow</td>\n",
       "      <td>37.51</td>\n",
       "      <td>30.6</td>\n",
       "      <td>38.6</td>\n",
       "      <td>34.3</td>\n",
       "      <td>50.41</td>\n",
       "      <td>43.4</td>\n",
       "      <td>56.3</td>\n",
       "      <td>47.7</td>\n",
       "    </tr>\n",
       "    <tr>\n",
       "      <th>127</th>\n",
       "      <td>2013</td>\n",
       "      <td>No Shadow</td>\n",
       "      <td>34.77</td>\n",
       "      <td>25.3</td>\n",
       "      <td>33.4</td>\n",
       "      <td>27.4</td>\n",
       "      <td>40.91</td>\n",
       "      <td>32.7</td>\n",
       "      <td>37.3</td>\n",
       "      <td>33.9</td>\n",
       "    </tr>\n",
       "    <tr>\n",
       "      <th>128</th>\n",
       "      <td>2014</td>\n",
       "      <td>Full Shadow</td>\n",
       "      <td>32.13</td>\n",
       "      <td>21.0</td>\n",
       "      <td>27.1</td>\n",
       "      <td>22.8</td>\n",
       "      <td>40.51</td>\n",
       "      <td>26.0</td>\n",
       "      <td>38.0</td>\n",
       "      <td>30.3</td>\n",
       "    </tr>\n",
       "    <tr>\n",
       "      <th>129</th>\n",
       "      <td>2015</td>\n",
       "      <td>Full Shadow</td>\n",
       "      <td>32.99</td>\n",
       "      <td>12.1</td>\n",
       "      <td>23.4</td>\n",
       "      <td>16.1</td>\n",
       "      <td>45.39</td>\n",
       "      <td>27.8</td>\n",
       "      <td>41.6</td>\n",
       "      <td>31.6</td>\n",
       "    </tr>\n",
       "    <tr>\n",
       "      <th>130</th>\n",
       "      <td>2016</td>\n",
       "      <td>No Shadow</td>\n",
       "      <td>39.47</td>\n",
       "      <td>28.1</td>\n",
       "      <td>36.9</td>\n",
       "      <td>30.8</td>\n",
       "      <td>47.50</td>\n",
       "      <td>38.8</td>\n",
       "      <td>49.5</td>\n",
       "      <td>43.4</td>\n",
       "    </tr>\n",
       "  </tbody>\n",
       "</table>\n",
       "<p>116 rows × 10 columns</p>\n",
       "</div>"
      ],
      "text/plain": [
       "     Year Punxsutawney Phil  February Average Temperature  \\\n",
       "12   1898       Full Shadow                         35.37   \n",
       "14   1900       Full Shadow                         30.76   \n",
       "15   1901       Full Shadow                         29.86   \n",
       "17   1903       Full Shadow                         28.42   \n",
       "18   1904       Full Shadow                         31.59   \n",
       "..    ...               ...                           ...   \n",
       "126  2012       Full Shadow                         37.51   \n",
       "127  2013         No Shadow                         34.77   \n",
       "128  2014       Full Shadow                         32.13   \n",
       "129  2015       Full Shadow                         32.99   \n",
       "130  2016         No Shadow                         39.47   \n",
       "\n",
       "     February Average Temperature (Northeast)  \\\n",
       "12                                       24.8   \n",
       "14                                       21.4   \n",
       "15                                       16.0   \n",
       "17                                       24.5   \n",
       "18                                       15.0   \n",
       "..                                        ...   \n",
       "126                                      30.6   \n",
       "127                                      25.3   \n",
       "128                                      21.0   \n",
       "129                                      12.1   \n",
       "130                                      28.1   \n",
       "\n",
       "     February Average Temperature (Midwest)  \\\n",
       "12                                     33.3   \n",
       "14                                     27.5   \n",
       "15                                     26.2   \n",
       "17                                     31.3   \n",
       "18                                     28.2   \n",
       "..                                      ...   \n",
       "126                                    38.6   \n",
       "127                                    33.4   \n",
       "128                                    27.1   \n",
       "129                                    23.4   \n",
       "130                                    36.9   \n",
       "\n",
       "     February Average Temperature (Pennsylvania)  March Average Temperature  \\\n",
       "12                                          26.7                      41.05   \n",
       "14                                          24.1                      41.27   \n",
       "15                                          18.9                      40.71   \n",
       "17                                          28.0                      42.21   \n",
       "18                                          19.2                      41.76   \n",
       "..                                           ...                        ...   \n",
       "126                                         34.3                      50.41   \n",
       "127                                         27.4                      40.91   \n",
       "128                                         22.8                      40.51   \n",
       "129                                         16.1                      45.39   \n",
       "130                                         30.8                      47.50   \n",
       "\n",
       "     March Average Temperature (Northeast)  \\\n",
       "12                                    38.0   \n",
       "14                                    26.0   \n",
       "15                                    30.8   \n",
       "17                                    40.4   \n",
       "18                                    29.8   \n",
       "..                                     ...   \n",
       "126                                   43.4   \n",
       "127                                   32.7   \n",
       "128                                   26.0   \n",
       "129                                   27.8   \n",
       "130                                   38.8   \n",
       "\n",
       "     March Average Temperature (Midwest)  \\\n",
       "12                                  46.0   \n",
       "14                                  37.9   \n",
       "15                                  41.9   \n",
       "17                                  47.7   \n",
       "18                                  42.8   \n",
       "..                                   ...   \n",
       "126                                 56.3   \n",
       "127                                 37.3   \n",
       "128                                 38.0   \n",
       "129                                 41.6   \n",
       "130                                 49.5   \n",
       "\n",
       "     March Average Temperature (Pennsylvania)  \n",
       "12                                       42.0  \n",
       "14                                       29.3  \n",
       "15                                       35.1  \n",
       "17                                       44.5  \n",
       "18                                       34.0  \n",
       "..                                        ...  \n",
       "126                                      47.7  \n",
       "127                                      33.9  \n",
       "128                                      30.3  \n",
       "129                                      31.6  \n",
       "130                                      43.4  \n",
       "\n",
       "[116 rows x 10 columns]"
      ]
     },
     "execution_count": 9,
     "metadata": {},
     "output_type": "execute_result"
    }
   ],
   "source": [
    "phil_nonnull = phil.dropna(how='any').copy()\n",
    "phil_nonnull = phil_nonnull[phil_nonnull['Punxsutawney Phil'] != 'No Record']\n",
    "phil_nonnull"
   ]
  },
  {
   "cell_type": "markdown",
   "metadata": {
    "colab_type": "text",
    "id": "v1gUczVVBaRh"
   },
   "source": [
    "### February Temperature Analysis"
   ]
  },
  {
   "cell_type": "code",
   "execution_count": 10,
   "metadata": {
    "colab": {
     "base_uri": "https://localhost:8080/",
     "height": 295
    },
    "colab_type": "code",
    "executionInfo": {
     "elapsed": 999,
     "status": "ok",
     "timestamp": 1575769024685,
     "user": {
      "displayName": "Enrique Sanchez",
      "photoUrl": "https://lh3.googleusercontent.com/a-/AAuE7mArCUYEVDUpb_fP7zxOTRG4kb61eEQIaf7QPUaLNA=s64",
      "userId": "01333664773716255039"
     },
     "user_tz": 480
    },
    "id": "0ncDH3ZnzYjj",
    "outputId": "cd54d3eb-0e0d-4239-8845-c34f5682f43f"
   },
   "outputs": [
    {
     "data": {
      "image/png": "[encoded data removed]",
      "text/plain": [
       "<Figure size 864x288 with 1 Axes>"
      ]
     },
     "metadata": {
      "needs_background": "light"
     },
     "output_type": "display_data"
    }
   ],
   "source": [
    "phil_nonnull.plot(x='Year', y='February Average Temperature', kind='line', figsize=(12, 4), legend=None)\n",
    "plt.title('Average February Temperatures (1898-2016)')\n",
    "plt.ylabel('Temperature (F)');"
   ]
  },
  {
   "cell_type": "code",
   "execution_count": 11,
   "metadata": {
    "colab": {
     "base_uri": "https://localhost:8080/",
     "height": 295
    },
    "colab_type": "code",
    "executionInfo": {
     "elapsed": 1064,
     "status": "ok",
     "timestamp": 1575769024893,
     "user": {
      "displayName": "Enrique Sanchez",
      "photoUrl": "https://lh3.googleusercontent.com/a-/AAuE7mArCUYEVDUpb_fP7zxOTRG4kb61eEQIaf7QPUaLNA=s64",
      "userId": "01333664773716255039"
     },
     "user_tz": 480
    },
    "id": "-UIyh8To4qv5",
    "outputId": "b8d43858-0a71-4af7-d155-e132961b37f8"
   },
   "outputs": [
    {
     "data": {
      "image/png": "[encoded data removed]",
      "text/plain": [
       "<Figure size 432x288 with 1 Axes>"
      ]
     },
     "metadata": {
      "needs_background": "light"
     },
     "output_type": "display_data"
    }
   ],
   "source": [
    "phil_nonnull['February Average Temperature'].hist()\n",
    "plt.title('Average February Temperatures')\n",
    "plt.xlabel('Temperature (F)')\n",
    "plt.ylabel('Count');"
   ]
  },
  {
   "cell_type": "code",
   "execution_count": 12,
   "metadata": {
    "colab": {
     "base_uri": "https://localhost:8080/",
     "height": 34
    },
    "colab_type": "code",
    "executionInfo": {
     "elapsed": 876,
     "status": "ok",
     "timestamp": 1575769025705,
     "user": {
      "displayName": "Enrique Sanchez",
      "photoUrl": "https://lh3.googleusercontent.com/a-/AAuE7mArCUYEVDUpb_fP7zxOTRG4kb61eEQIaf7QPUaLNA=s64",
      "userId": "01333664773716255039"
     },
     "user_tz": 480
    },
    "id": "ALYVia86BFwQ",
    "outputId": "d5fa1815-4ee2-445c-8b8e-a8163d8c95b9"
   },
   "outputs": [
    {
     "data": {
      "text/plain": [
       "33.928103448275856"
      ]
     },
     "execution_count": 12,
     "metadata": {},
     "output_type": "execute_result"
    }
   ],
   "source": [
    "phil_nonnull['February Average Temperature'].mean()"
   ]
  },
  {
   "cell_type": "code",
   "execution_count": 13,
   "metadata": {
    "colab": {
     "base_uri": "https://localhost:8080/",
     "height": 34
    },
    "colab_type": "code",
    "executionInfo": {
     "elapsed": 715,
     "status": "ok",
     "timestamp": 1575769025706,
     "user": {
      "displayName": "Enrique Sanchez",
      "photoUrl": "https://lh3.googleusercontent.com/a-/AAuE7mArCUYEVDUpb_fP7zxOTRG4kb61eEQIaf7QPUaLNA=s64",
      "userId": "01333664773716255039"
     },
     "user_tz": 480
    },
    "id": "Kmw5cEZ8BIvs",
    "outputId": "5cb17577-84e8-4086-fc21-d2ebba5caa16"
   },
   "outputs": [
    {
     "data": {
      "text/plain": [
       "33.69"
      ]
     },
     "execution_count": 13,
     "metadata": {},
     "output_type": "execute_result"
    }
   ],
   "source": [
    "phil_nonnull['February Average Temperature'].median()"
   ]
  },
  {
   "cell_type": "markdown",
   "metadata": {
    "colab_type": "text",
    "id": "Y0MLcECQBhiO"
   },
   "source": [
    "### March Temperature Analysis"
   ]
  },
  {
   "cell_type": "code",
   "execution_count": 14,
   "metadata": {
    "colab": {
     "base_uri": "https://localhost:8080/",
     "height": 295
    },
    "colab_type": "code",
    "executionInfo": {
     "elapsed": 916,
     "status": "ok",
     "timestamp": 1575769026208,
     "user": {
      "displayName": "Enrique Sanchez",
      "photoUrl": "https://lh3.googleusercontent.com/a-/AAuE7mArCUYEVDUpb_fP7zxOTRG4kb61eEQIaf7QPUaLNA=s64",
      "userId": "01333664773716255039"
     },
     "user_tz": 480
    },
    "id": "oNBJg5jVzuI6",
    "outputId": "a4676aa0-fb83-4b07-e477-961545e1f843"
   },
   "outputs": [
    {
     "data": {
      "image/png": "[encoded data removed]",
      "text/plain": [
       "<Figure size 864x288 with 1 Axes>"
      ]
     },
     "metadata": {
      "needs_background": "light"
     },
     "output_type": "display_data"
    }
   ],
   "source": [
    "phil_nonnull.plot(x='Year', y='March Average Temperature', kind='line', figsize=(12, 4), legend=None)\n",
    "plt.title('Average March Temperatures (1898-2016)')\n",
    "plt.ylabel('Temperature (F)');"
   ]
  },
  {
   "cell_type": "code",
   "execution_count": 15,
   "metadata": {
    "colab": {
     "base_uri": "https://localhost:8080/",
     "height": 295
    },
    "colab_type": "code",
    "executionInfo": {
     "elapsed": 923,
     "status": "ok",
     "timestamp": 1575769026590,
     "user": {
      "displayName": "Enrique Sanchez",
      "photoUrl": "https://lh3.googleusercontent.com/a-/AAuE7mArCUYEVDUpb_fP7zxOTRG4kb61eEQIaf7QPUaLNA=s64",
      "userId": "01333664773716255039"
     },
     "user_tz": 480
    },
    "id": "rDIxUNjx1jKs",
    "outputId": "ea91bbd3-a15d-4a5b-dbed-24b18f121e1b"
   },
   "outputs": [
    {
     "data": {
      "image/png": "[encoded data removed]",
      "text/plain": [
       "<Figure size 432x288 with 1 Axes>"
      ]
     },
     "metadata": {
      "needs_background": "light"
     },
     "output_type": "display_data"
    }
   ],
   "source": [
    "phil_nonnull['March Average Temperature'].hist()\n",
    "plt.title('Average March Temperatures')\n",
    "plt.xlabel('Temperature (F)')\n",
    "plt.ylabel('Count');"
   ]
  },
  {
   "cell_type": "code",
   "execution_count": 16,
   "metadata": {
    "colab": {
     "base_uri": "https://localhost:8080/",
     "height": 34
    },
    "colab_type": "code",
    "executionInfo": {
     "elapsed": 291,
     "status": "ok",
     "timestamp": 1575769027253,
     "user": {
      "displayName": "Enrique Sanchez",
      "photoUrl": "https://lh3.googleusercontent.com/a-/AAuE7mArCUYEVDUpb_fP7zxOTRG4kb61eEQIaf7QPUaLNA=s64",
      "userId": "01333664773716255039"
     },
     "user_tz": 480
    },
    "id": "N7I-7W9SA6sW",
    "outputId": "91805f87-e0a4-4e13-ce52-29818f2366f4"
   },
   "outputs": [
    {
     "data": {
      "text/plain": [
       "41.834310344827585"
      ]
     },
     "execution_count": 16,
     "metadata": {},
     "output_type": "execute_result"
    }
   ],
   "source": [
    "phil_nonnull['March Average Temperature'].mean()"
   ]
  },
  {
   "cell_type": "code",
   "execution_count": 17,
   "metadata": {
    "colab": {
     "base_uri": "https://localhost:8080/",
     "height": 34
    },
    "colab_type": "code",
    "executionInfo": {
     "elapsed": 360,
     "status": "ok",
     "timestamp": 1575769027749,
     "user": {
      "displayName": "Enrique Sanchez",
      "photoUrl": "https://lh3.googleusercontent.com/a-/AAuE7mArCUYEVDUpb_fP7zxOTRG4kb61eEQIaf7QPUaLNA=s64",
      "userId": "01333664773716255039"
     },
     "user_tz": 480
    },
    "id": "loVlVdGEA-TV",
    "outputId": "3c862a1b-acf2-434f-ac4a-7e03f2184dc3"
   },
   "outputs": [
    {
     "data": {
      "text/plain": [
       "42.045"
      ]
     },
     "execution_count": 17,
     "metadata": {},
     "output_type": "execute_result"
    }
   ],
   "source": [
    "phil_nonnull['March Average Temperature'].median()"
   ]
  },
  {
   "cell_type": "markdown",
   "metadata": {
    "colab_type": "text",
    "id": "QOPsIqGCBl4u"
   },
   "source": [
    "### Phil's Prediction Analysis"
   ]
  },
  {
   "cell_type": "code",
   "execution_count": 18,
   "metadata": {
    "colab": {
     "base_uri": "https://localhost:8080/",
     "height": 34
    },
    "colab_type": "code",
    "executionInfo": {
     "elapsed": 449,
     "status": "ok",
     "timestamp": 1575769028692,
     "user": {
      "displayName": "Enrique Sanchez",
      "photoUrl": "https://lh3.googleusercontent.com/a-/AAuE7mArCUYEVDUpb_fP7zxOTRG4kb61eEQIaf7QPUaLNA=s64",
      "userId": "01333664773716255039"
     },
     "user_tz": 480
    },
    "id": "CAQY3ff2BpOP",
    "outputId": "d3b0c33d-6541-40ff-9f6c-5fae6b263d31"
   },
   "outputs": [
    {
     "data": {
      "text/plain": [
       "0.5"
      ]
     },
     "execution_count": 18,
     "metadata": {},
     "output_type": "execute_result"
    }
   ],
   "source": [
    "# Mapping predictions. 1 means predicted late Winter, 0 means predicted early Spring\n",
    "pred_dict = {'Full Shadow': 1, 'Partial Shadow': 1, 'No Shadow': 0}\n",
    "phil_nonnull['Prediction'] = phil_nonnull['Punxsutawney Phil'].replace(pred_dict)\n",
    "\n",
    "# Mapping observed truth (based on deviation from average temperature increase from february to march)\n",
    "temperature_change = phil_nonnull['March Average Temperature'] - phil_nonnull['February Average Temperature']\n",
    "temperature_dev = temperature_change - temperature_change.mean()\n",
    "observed = np.sign(temperature_dev).replace({-1.0: 1, 1.0:0})\n",
    "\n",
    "# Checking Phil's accuracy\n",
    "np.mean(phil_nonnull['Prediction'] == observed)"
   ]
  },
  {
   "cell_type": "code",
   "execution_count": 19,
   "metadata": {
    "colab": {
     "base_uri": "https://localhost:8080/",
     "height": 34
    },
    "colab_type": "code",
    "executionInfo": {
     "elapsed": 391,
     "status": "ok",
     "timestamp": 1575769032952,
     "user": {
      "displayName": "Enrique Sanchez",
      "photoUrl": "https://lh3.googleusercontent.com/a-/AAuE7mArCUYEVDUpb_fP7zxOTRG4kb61eEQIaf7QPUaLNA=s64",
      "userId": "01333664773716255039"
     },
     "user_tz": 480
    },
    "id": "1XJdgXJOFKOO",
    "outputId": "07906015-d529-4682-e0ee-10832d923909"
   },
   "outputs": [
    {
     "data": {
      "text/plain": [
       "0.49137931034482757"
      ]
     },
     "execution_count": 19,
     "metadata": {},
     "output_type": "execute_result"
    }
   ],
   "source": [
    "# Checking accuracy of a trivial predictor\n",
    "# Note, flipping a coin should also just be 50%\n",
    "trivial = [1] * 116\n",
    "np.mean(trivial == observed)"
   ]
  },
  {
   "cell_type": "code",
   "execution_count": 20,
   "metadata": {
    "colab": {
     "base_uri": "https://localhost:8080/",
     "height": 68
    },
    "colab_type": "code",
    "executionInfo": {
     "elapsed": 453,
     "status": "ok",
     "timestamp": 1575769035964,
     "user": {
      "displayName": "Enrique Sanchez",
      "photoUrl": "https://lh3.googleusercontent.com/a-/AAuE7mArCUYEVDUpb_fP7zxOTRG4kb61eEQIaf7QPUaLNA=s64",
      "userId": "01333664773716255039"
     },
     "user_tz": 480
    },
    "id": "yFFuhtzVIulJ",
    "outputId": "61bb9630-c19b-46d3-cd49-2c92b1f98085"
   },
   "outputs": [
    {
     "data": {
      "text/plain": [
       "0.0    59\n",
       "1.0    57\n",
       "dtype: int64"
      ]
     },
     "execution_count": 20,
     "metadata": {},
     "output_type": "execute_result"
    }
   ],
   "source": [
    "# How many extended winters/early springs?\n",
    "observed.value_counts()"
   ]
  },
  {
   "cell_type": "code",
   "execution_count": 21,
   "metadata": {
    "colab": {
     "base_uri": "https://localhost:8080/",
     "height": 1000
    },
    "colab_type": "code",
    "executionInfo": {
     "elapsed": 751,
     "status": "ok",
     "timestamp": 1575602396890,
     "user": {
      "displayName": "Enrique Sanchez",
      "photoUrl": "https://lh3.googleusercontent.com/a-/AAuE7mArCUYEVDUpb_fP7zxOTRG4kb61eEQIaf7QPUaLNA=s64",
      "userId": "01333664773716255039"
     },
     "user_tz": 480
    },
    "id": "s5unrxNBKwDh",
    "outputId": "c6bb7693-35a3-4ce8-8abc-6e58a71ad6ef"
   },
   "outputs": [
    {
     "data": {
      "text/plain": [
       "14     1900\n",
       "15     1901\n",
       "17     1903\n",
       "18     1904\n",
       "19     1905\n",
       "21     1907\n",
       "22     1908\n",
       "24     1910\n",
       "25     1911\n",
       "27     1913\n",
       "28     1914\n",
       "30     1916\n",
       "31     1917\n",
       "32     1918\n",
       "33     1919\n",
       "35     1921\n",
       "36     1922\n",
       "37     1923\n",
       "42     1928\n",
       "43     1929\n",
       "47     1933\n",
       "48     1934\n",
       "50     1936\n",
       "52     1938\n",
       "53     1939\n",
       "56     1942\n",
       "59     1945\n",
       "60     1946\n",
       "63     1949\n",
       "69     1955\n",
       "70     1956\n",
       "73     1959\n",
       "77     1963\n",
       "80     1966\n",
       "81     1967\n",
       "82     1968\n",
       "86     1972\n",
       "87     1973\n",
       "88     1974\n",
       "92     1978\n",
       "93     1979\n",
       "96     1982\n",
       "99     1985\n",
       "100    1986\n",
       "102    1988\n",
       "103    1989\n",
       "104    1990\n",
       "107    1993\n",
       "108    1994\n",
       "111    1997\n",
       "117    2003\n",
       "118    2004\n",
       "121    2007\n",
       "124    2010\n",
       "125    2011\n",
       "126    2012\n",
       "128    2014\n",
       "129    2015\n",
       "130    2016\n",
       "Name: Year, dtype: int32"
      ]
     },
     "execution_count": 21,
     "metadata": {},
     "output_type": "execute_result"
    }
   ],
   "source": [
    "# Years that should be an early Spring\n",
    "positive_yr = phil_nonnull['Year'].loc[temperature_dev>0]\n",
    "#positive_tmp = temperature_dev[temperature_dev>0]\n",
    "positive_yr"
   ]
  },
  {
   "cell_type": "code",
   "execution_count": 22,
   "metadata": {
    "colab": {
     "base_uri": "https://localhost:8080/",
     "height": 1000
    },
    "colab_type": "code",
    "executionInfo": {
     "elapsed": 770,
     "status": "ok",
     "timestamp": 1575602406956,
     "user": {
      "displayName": "Enrique Sanchez",
      "photoUrl": "https://lh3.googleusercontent.com/a-/AAuE7mArCUYEVDUpb_fP7zxOTRG4kb61eEQIaf7QPUaLNA=s64",
      "userId": "01333664773716255039"
     },
     "user_tz": 480
    },
    "id": "_6ckGuPVN6KX",
    "outputId": "169d417b-e8cb-48a8-ba3f-d390e6bf2954"
   },
   "outputs": [
    {
     "data": {
      "text/plain": [
       "12     1898\n",
       "20     1906\n",
       "23     1909\n",
       "26     1912\n",
       "29     1915\n",
       "34     1920\n",
       "38     1924\n",
       "39     1925\n",
       "40     1926\n",
       "41     1927\n",
       "44     1930\n",
       "45     1931\n",
       "46     1932\n",
       "49     1935\n",
       "51     1937\n",
       "54     1940\n",
       "55     1941\n",
       "58     1944\n",
       "61     1947\n",
       "62     1948\n",
       "64     1950\n",
       "65     1951\n",
       "66     1952\n",
       "67     1953\n",
       "68     1954\n",
       "71     1957\n",
       "72     1958\n",
       "74     1960\n",
       "75     1961\n",
       "76     1962\n",
       "78     1964\n",
       "79     1965\n",
       "83     1969\n",
       "84     1970\n",
       "85     1971\n",
       "89     1975\n",
       "90     1976\n",
       "91     1977\n",
       "94     1980\n",
       "95     1981\n",
       "97     1983\n",
       "98     1984\n",
       "101    1987\n",
       "105    1991\n",
       "106    1992\n",
       "109    1995\n",
       "110    1996\n",
       "112    1998\n",
       "113    1999\n",
       "114    2000\n",
       "115    2001\n",
       "116    2002\n",
       "119    2005\n",
       "120    2006\n",
       "122    2008\n",
       "123    2009\n",
       "127    2013\n",
       "Name: Year, dtype: int32"
      ]
     },
     "execution_count": 22,
     "metadata": {},
     "output_type": "execute_result"
    }
   ],
   "source": [
    "# Years that should be an extended winter\n",
    "negative_yr = phil_nonnull['Year'].loc[temperature_dev<0]\n",
    "#negative_tmp = temperature_dev[temperature_dev<0]\n",
    "negative_yr"
   ]
  }
 ],
 "metadata": {
  "colab": {
   "collapsed_sections": [],
   "name": "Phil.ipynb",
   "provenance": []
  },
  "kernelspec": {
   "display_name": "Python 3 (ipykernel)",
   "language": "python",
   "name": "python3"
  },
  "language_info": {
   "codemirror_mode": {
    "name": "ipython",
    "version": 3
   },
   "file_extension": ".py",
   "mimetype": "text/x-python",
   "name": "python",
   "nbconvert_exporter": "python",
   "pygments_lexer": "ipython3",
   "version": "3.9.7"
  }
 },
 "nbformat": 4,
 "nbformat_minor": 1
}
